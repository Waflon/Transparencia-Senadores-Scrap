{
  "nbformat": 4,
  "nbformat_minor": 0,
  "metadata": {
    "colab": {
      "provenance": [],
      "collapsed_sections": [],
      "mount_file_id": "1xbuk2BeZSNH_03jXTY3de0JZBETKVNZO",
      "authorship_tag": "ABX9TyPqrLj+qEotsUwhzU9+rPUa",
      "include_colab_link": true
    },
    "kernelspec": {
      "name": "python3",
      "display_name": "Python 3"
    },
    "language_info": {
      "name": "python"
    }
  },
  "cells": [
    {
      "cell_type": "markdown",
      "metadata": {
        "id": "view-in-github",
        "colab_type": "text"
      },
      "source": [
        "<a href=\"https://colab.research.google.com/github/Waflon/Transparencia-Senadores-Scrap/blob/main/Asistencia_Senadores.ipynb\" target=\"_parent\"><img src=\"https://colab.research.google.com/assets/colab-badge.svg\" alt=\"Open In Colab\"/></a>"
      ]
    },
    {
      "cell_type": "markdown",
      "source": [
        "# Guardar en Drive"
      ],
      "metadata": {
        "id": "RNrJBbr6q15A"
      }
    },
    {
      "cell_type": "code",
      "source": [
        "from google.colab import drive\n",
        "drive.mount('/content/drive')"
      ],
      "metadata": {
        "id": "UpHnxCayq2ni"
      },
      "execution_count": null,
      "outputs": []
    },
    {
      "cell_type": "markdown",
      "source": [
        "#Get CSV"
      ],
      "metadata": {
        "id": "7hlwWlTAz1jY"
      }
    },
    {
      "cell_type": "code",
      "source": [
        "import requests\n",
        "from bs4 import BeautifulSoup\n",
        "import pandas as pd\n",
        "pd.set_option('display.max_rows', 50)\n",
        "\n",
        "def get_Table(id_periodo: int, flag: bool) -> pd:\n",
        "  url_lanzador = f'https://www.senado.cl/appsenado/lanzador.php?mo=sesionessala&ac=asistenciaSenadores&camara=S&legiini=361&legiid={id_periodo}'\n",
        "\n",
        "  with requests.Session() as s:  # iniciar en lanzador y luego en index\n",
        "    r = s.get(url_lanzador)  \n",
        "    url_index = f'https://www.senado.cl/appsenado/index.php?mo=sesionessala&ac=asistenciaSenadores&camara=S&legiini=361&legiid={id_periodo}'\n",
        "    r = s.get(url_index)\n",
        "    soup = BeautifulSoup(r.text, 'lxml')  # guardar parseado\n",
        "\n",
        "  #Arreglos de la tabla con Beautiful soup\n",
        "  table = soup.find_all('table')\n",
        "  df = pd.read_html(str(table))[1].fillna(0)\n",
        "  df = df[df['Senador'].apply(lambda x: isinstance(x, (str, bytes)))]\n",
        "  df.reset_index(inplace=True)\n",
        "  df.drop('index', axis=1, inplace=True)\n",
        "  if (flag):\n",
        "    lista_fechas = []\n",
        "    for fecha in soup.find_all('option'):\n",
        "      lista_fechas.append(int(fecha['value']))\n",
        "    return lista_fechas\n",
        "\n",
        "  return soup, df\n",
        "  "
      ],
      "metadata": {
        "id": "0G3lt_6IPHWx"
      },
      "execution_count": null,
      "outputs": []
    },
    {
      "cell_type": "markdown",
      "source": [
        "Obtener los rangos de fecha disponibles para navegar por los GET"
      ],
      "metadata": {
        "id": "MjEQlyacz4ml"
      }
    },
    {
      "cell_type": "markdown",
      "source": [
        "get and save CSV"
      ],
      "metadata": {
        "id": "lvvfsnk0KKxU"
      }
    },
    {
      "cell_type": "code",
      "source": [
        "lista_fechas = get_Table(501, True) #id inicial\n",
        "\n",
        "def generar_CSV(id_fecha):\n",
        "  soup, df = get_Table(id_fecha, False)\n",
        "  fecha = soup.find('option', {'selected': True})\n",
        "  rango_fecha = fecha.text[11:15] + '-' + fecha.text[24:-1]\n",
        "  df.to_csv(f'Asistencia_Sesiones_Senadores_{rango_fecha}.csv')\n",
        "  !sudo cp 'Asistencia_Sesiones_Senadores_{rango_fecha}.csv' '/content/drive/My Drive/Colab Notebooks/Senadores/Asistencia_Sesiones_Senadores_{rango_fecha}.csv'\n",
        "  "
      ],
      "metadata": {
        "id": "P0u2fvhzSP48"
      },
      "execution_count": null,
      "outputs": []
    },
    {
      "cell_type": "code",
      "source": [
        "for fecha in lista_fechas:\n",
        "  generar_CSV(fecha)"
      ],
      "metadata": {
        "id": "2U9lveQiwY5O"
      },
      "execution_count": null,
      "outputs": []
    },
    {
      "cell_type": "markdown",
      "source": [
        "---\n",
        "# Plotting\n",
        "---"
      ],
      "metadata": {
        "id": "7Ci7WoIEnPGv"
      }
    },
    {
      "cell_type": "code",
      "source": [
        "from IPython.core.excolors import exception_colors\n",
        "import numpy as np\n",
        "import pandas as pd\n",
        "from bs4 import BeautifulSoup\n",
        "import requests\n",
        "import matplotlib.pyplot as plt\n",
        "from matplotlib.pyplot import figure\n",
        "from PIL import Image\n",
        "\n",
        "def get_Table(id_periodo : int) -> BeautifulSoup:\n",
        "  url_lanzador = f'https://www.senado.cl/appsenado/lanzador.php?mo=sesionessala&ac=asistenciaSenadores&camara=S&legiini=361&legiid={id_periodo}'\n",
        "\n",
        "  with requests.Session() as s:  # iniciar en lanzador y luego en index\n",
        "    r = s.get(url_lanzador)  \n",
        "    url_index = f'https://www.senado.cl/appsenado/index.php?mo=sesionessala&ac=asistenciaSenadores&camara=S&legiini=361&legiid={id_periodo}'\n",
        "    r = s.get(url_index)\n",
        "    soup = BeautifulSoup(r.text, 'lxml')  # guardar parseado\n",
        "  return soup\n",
        "\n",
        "def get_DataFrame(soup):\n",
        "  #Arreglos de la tabla con Beautiful soup\n",
        "  table = soup.find_all('table')\n",
        "  df = pd.read_html(str(table))[1].fillna(0)\n",
        "  df = df[df['Senador'].apply(lambda x: isinstance(x, (str, bytes)))]\n",
        "  df.reset_index(inplace=True)\n",
        "  df.drop('index', axis=1, inplace=True)\n",
        "  return df\n",
        "\n",
        "def get_Fechas(soup):\n",
        "  lista_fechas = []\n",
        "  for fecha in soup.find_all('option'):\n",
        "    lista_fechas.append(int(fecha['value']))\n",
        "  return lista_fechas\n",
        "\n",
        "def get_Sesiones_totales(soup) -> pd:\n",
        "  try:\n",
        "    sesiones_totales = soup.find(\"h2\").text[-3:]\n",
        "  except:\n",
        "    sesiones_totales = 130\n",
        "  return sesiones_totales\n",
        "\n",
        "def dibujar(df, n_sesiones):\n",
        "  figure(figsize=(15, 10), dpi=80)\n",
        "  largo = len(df[:])\n",
        "\n",
        "  sesiones=np.empty(largo)\n",
        "  sesiones.fill(n_sesiones)\n",
        "\n",
        "  sesiones_asistidas = df['Asistencia'].to_numpy(dtype=\"int\")\n",
        "  inasistencias_justificadas = df['Inasistencias justificadas'].to_numpy(dtype=\"int\")\n",
        "  df['promedio'] = df['Asistencia'].astype(int) + df['Inasistencias justificadas'].astype(int)\n",
        "  df['promedio'] = df['promedio'].astype(int).div(int(n_sesiones)).mul(100).round(2)\n",
        "\n",
        "  df['Senador'] = df['Senador'].astype(str) + ' ' + df['promedio'].astype(str) + '%'\n",
        "  senadores = df['Senador'].to_numpy(dtype=\"str\")\n",
        "\n",
        "  fecha = soup.find('option', {'selected': True})\n",
        "  rango_fecha = fecha.text[5:15] + fecha.text[15:-1]\n",
        "\n",
        "  ind = np.arange(largo)    \n",
        "  width = 0.5      \n",
        "\n",
        "  p1 = plt.bar(ind, sesiones, width, color='#27d6d5') #plt.plot(x, y, 'r-', alpha=0.7)\n",
        "  p2 = plt.bar(ind, sesiones_asistidas, width,  bottom=0)\n",
        "  p3 = plt.bar(ind, inasistencias_justificadas, width,  bottom=sesiones_asistidas)\n",
        "  \n",
        "  plt.ylabel(f'Sesiones Totales: {n_sesiones}')\n",
        "  plt.title(f'Asistencia de Senadores por Periodo {rango_fecha}')\n",
        "  plt.xticks(ind, (senadores), rotation='vertical')\n",
        "  plt.yticks(np.arange(0, int(n_sesiones), 10), rotation='vertical')\n",
        "  plt.legend((p1[0], p2[0], p3[0]), ('Sesiones totales', 'Sesiones Asistidas', \"Inasistencias Justificadas\"), loc = \"center\", fontsize=20, ncol = 3)\n",
        "\n",
        "\n",
        "  plt.tight_layout()\n",
        "  \n",
        "  fecha = fecha.text[11:15] + '-' + fecha.text[24:-1]\n",
        "  plt.savefig(f'Asistencia_Sesiones_Senadores_{fecha}.png')\n",
        "  \n",
        "  plt.show()\n"
      ],
      "metadata": {
        "id": "sFYsF7hMaPgn"
      },
      "execution_count": null,
      "outputs": []
    },
    {
      "cell_type": "code",
      "source": [
        "def save_img(soup) -> None:\n",
        "  df = get_DataFrame(soup)\n",
        "  n_sesiones = get_Sesiones_totales(soup)\n",
        "  dibujar(df, int(n_sesiones))\n",
        "  fecha = soup.find('option', {'selected': True})\n",
        "  fecha = fecha.text[11:15] + '-' + fecha.text[24:-1]\n",
        "  im = Image.open(f\"Asistencia_Sesiones_Senadores_{fecha}.png\")\n",
        "  out = im.transpose(Image.ROTATE_270)\n",
        "  #out=im.rotate(270, expand=1)\n",
        "  out.save(f'Asistencia_Sesiones_Senadores_{fecha}_H.png')"
      ],
      "metadata": {
        "id": "RS8UWwWBph4s"
      },
      "execution_count": null,
      "outputs": []
    },
    {
      "cell_type": "code",
      "source": [
        "soup = get_Table(501)\n",
        "fechas = get_Fechas(soup)"
      ],
      "metadata": {
        "id": "k3sVYjG4dOd5"
      },
      "execution_count": null,
      "outputs": []
    },
    {
      "cell_type": "code",
      "source": [
        "for fecha in fechas:\n",
        "  soup = get_Table(fecha)\n",
        "  save_img(soup)"
      ],
      "metadata": {
        "id": "xxq8hEU4wPQj"
      },
      "execution_count": null,
      "outputs": []
    }
  ]
}